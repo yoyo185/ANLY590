{
 "cells": [
  {
   "cell_type": "markdown",
   "metadata": {
    "colab_type": "text",
    "id": "2Hlauc-Nu0FC"
   },
   "source": [
    "# 1 Autoencoder\n",
    "\n",
    "A convolutional autoencoder is a particular \n",
    "avor of autoencoder where we\n",
    "use convolutional layers instead of dense layers. We have previously applied\n",
    "autoencoders to images using only Dense layers and the result worked fairly\n",
    "well. However, the local spatial correlations of images imply that we should be\n",
    "able to do better using convolutional layers instead of Dense layers.\n",
    "\n",
    "Build and fit a convolutional autoencoder for the Fashion MNIST dataset.\n",
    "The components of this network will be many of the same pieces we've used\n",
    "with convolutional classification networks: Conv2D, MaxPooling, and so on.\n",
    "The encoder part of the network should run the input image through a few\n",
    "convolutional layers of your choice. The decoder part of the network will utilize\n",
    "UpSampling2D to get the representation back to the original image size.\n",
    "\n",
    "An example to guide your thinking can be found toward the bottom of this\n",
    "post https://blog.keras.io/building-autoencoders-in-keras.html.\n",
    "\n",
    "After training your network, visualize some examples of input images and\n",
    "their decoded reconstruction."
   ]
  },
  {
   "cell_type": "code",
   "execution_count": 7,
   "metadata": {
    "colab": {
     "base_uri": "https://localhost:8080/",
     "height": 34
    },
    "colab_type": "code",
    "id": "NWKFYcN0u0FE",
    "outputId": "9db66509-a34e-40b5-f642-ac4152154d5f"
   },
   "outputs": [],
   "source": [
    "from keras.datasets import fashion_mnist\n",
    "from keras.layers import Input, Dense, Conv1D,Conv2D,GlobalMaxPooling1D, MaxPooling2D, UpSampling2D,Dropout,Flatten, Embedding, LSTM\n",
    "from keras.models import Model,Sequential\n",
    "from keras import backend as K\n",
    "%matplotlib inline\n",
    "import numpy as np\n",
    "import pandas as pd\n",
    "import matplotlib.pyplot as plt\n",
    "\n",
    "from keras.utils import np_utils  \n",
    "from keras.preprocessing.image import img_to_array, array_to_img\n",
    "from keras.applications.vgg16 import VGG16, preprocess_input, decode_predictions\n",
    "from keras.layers.advanced_activations import LeakyReLU\n",
    "from keras.optimizers import SGD, Adam, RMSprop\n",
    "\n",
    "from keras.preprocessing.text import Tokenizer\n",
    "from string import printable\n",
    "from keras.preprocessing import sequence\n",
    "from keras.preprocessing.sequence import pad_sequences\n",
    "from sklearn.model_selection import train_test_split\n",
    "from keras import regularizers\n",
    "from bs4 import BeautifulSoup\n",
    "import re\n",
    "import warnings\n",
    "warnings.filterwarnings(\"ignore\")\n",
    "from sklearn.utils import class_weight, shuffle\n",
    "from tokenize import tokenize"
   ]
  },
  {
   "cell_type": "markdown",
   "metadata": {
    "colab_type": "text",
    "id": "YPWcLSzDAVTC"
   },
   "source": [
    "### Data Preperation"
   ]
  },
  {
   "cell_type": "code",
   "execution_count": 0,
   "metadata": {
    "colab": {
     "base_uri": "https://localhost:8080/",
     "height": 85
    },
    "colab_type": "code",
    "id": "o9bLJ3iBu0FQ",
    "outputId": "f5dcb038-f64a-482e-dddb-0786c34c7bbb"
   },
   "outputs": [
    {
     "name": "stdout",
     "output_type": "stream",
     "text": [
      "(60000, 28, 28)\n",
      "(10000, 28, 28)\n",
      "(60000, 28, 28, 1)\n",
      "(10000, 28, 28, 1)\n"
     ]
    }
   ],
   "source": [
    "# Load fashion mnist data\n",
    "(x_train, y_train), (x_test, y_test) = fashion_mnist.load_data()\n",
    "\n",
    "# normalize data\n",
    "x_train = x_train.astype('float32') / 255.\n",
    "x_test = x_test.astype('float32') / 255.\n",
    "\n",
    "print(x_train.shape)\n",
    "print(x_test.shape)\n",
    "\n",
    "# reshape data\n",
    "x_train = x_train.reshape(x_train.shape[0], 28, 28, 1)  \n",
    "x_test = x_test.reshape(x_test.shape[0], 28, 28, 1)\n",
    "\n",
    "print(x_train.shape)\n",
    "print(x_test.shape)"
   ]
  },
  {
   "cell_type": "markdown",
   "metadata": {
    "colab_type": "text",
    "id": "DKwpC5nVHMds"
   },
   "source": [
    "### Train the Autoencoder"
   ]
  },
  {
   "cell_type": "code",
   "execution_count": 0,
   "metadata": {
    "colab": {
     "base_uri": "https://localhost:8080/",
     "height": 612
    },
    "colab_type": "code",
    "id": "ZScm2yjKu0FJ",
    "outputId": "b40515cc-1e2c-44e2-a780-9e94a7bb0276"
   },
   "outputs": [
    {
     "name": "stdout",
     "output_type": "stream",
     "text": [
      "_________________________________________________________________\n",
      "Layer (type)                 Output Shape              Param #   \n",
      "=================================================================\n",
      "input_3 (InputLayer)         (None, 28, 28, 1)         0         \n",
      "_________________________________________________________________\n",
      "conv2d_15 (Conv2D)           (None, 28, 28, 16)        160       \n",
      "_________________________________________________________________\n",
      "max_pooling2d_7 (MaxPooling2 (None, 14, 14, 16)        0         \n",
      "_________________________________________________________________\n",
      "conv2d_16 (Conv2D)           (None, 14, 14, 8)         1160      \n",
      "_________________________________________________________________\n",
      "max_pooling2d_8 (MaxPooling2 (None, 7, 7, 8)           0         \n",
      "_________________________________________________________________\n",
      "conv2d_17 (Conv2D)           (None, 7, 7, 8)           584       \n",
      "_________________________________________________________________\n",
      "max_pooling2d_9 (MaxPooling2 (None, 4, 4, 8)           0         \n",
      "_________________________________________________________________\n",
      "conv2d_18 (Conv2D)           (None, 4, 4, 8)           584       \n",
      "_________________________________________________________________\n",
      "up_sampling2d_7 (UpSampling2 (None, 8, 8, 8)           0         \n",
      "_________________________________________________________________\n",
      "conv2d_19 (Conv2D)           (None, 8, 8, 8)           584       \n",
      "_________________________________________________________________\n",
      "up_sampling2d_8 (UpSampling2 (None, 16, 16, 8)         0         \n",
      "_________________________________________________________________\n",
      "conv2d_20 (Conv2D)           (None, 14, 14, 16)        1168      \n",
      "_________________________________________________________________\n",
      "up_sampling2d_9 (UpSampling2 (None, 28, 28, 16)        0         \n",
      "_________________________________________________________________\n",
      "conv2d_21 (Conv2D)           (None, 28, 28, 1)         145       \n",
      "=================================================================\n",
      "Total params: 4,385\n",
      "Trainable params: 4,385\n",
      "Non-trainable params: 0\n",
      "_________________________________________________________________\n"
     ]
    }
   ],
   "source": [
    "# Add Layers from the blog\n",
    "input_img = Input(shape=(28, 28, 1))  # adapt this if using `channels_first` image data format\n",
    "\n",
    "x = Conv2D(16, (3, 3), activation='relu', padding='same')(input_img)\n",
    "x = MaxPooling2D((2, 2), padding='same')(x)\n",
    "x = Conv2D(8, (3, 3), activation='relu', padding='same')(x)\n",
    "x = MaxPooling2D((2, 2), padding='same')(x)\n",
    "x = Conv2D(8, (3, 3), activation='relu', padding='same')(x)\n",
    "encoded = MaxPooling2D((2, 2), padding='same')(x)\n",
    "\n",
    "# at this point the representation is (4, 4, 8) i.e. 128-dimensional\n",
    "\n",
    "x = Conv2D(8, (3, 3), activation='relu', padding='same')(encoded)\n",
    "x = UpSampling2D((2, 2))(x)\n",
    "x = Conv2D(8, (3, 3), activation='relu', padding='same')(x)\n",
    "x = UpSampling2D((2, 2))(x)\n",
    "x = Conv2D(16, (3, 3), activation='relu')(x)\n",
    "x = UpSampling2D((2, 2))(x)\n",
    "decoded = Conv2D(1, (3, 3), activation='sigmoid', padding='same')(x)\n",
    "\n",
    "autoencoder = Model(input_img, decoded)\n",
    "autoencoder.summary()\n",
    "autoencoder.compile(optimizer='adadelta', loss='binary_crossentropy')"
   ]
  },
  {
   "cell_type": "code",
   "execution_count": 0,
   "metadata": {
    "colab": {
     "base_uri": "https://localhost:8080/",
     "height": 714
    },
    "colab_type": "code",
    "id": "JxAQ4Vrzu0FZ",
    "outputId": "ee2336ba-f716-46e7-e72a-b912ae8d77fa"
   },
   "outputs": [
    {
     "name": "stdout",
     "output_type": "stream",
     "text": [
      "Train on 60000 samples, validate on 10000 samples\n",
      "Epoch 1/20\n",
      "60000/60000 [==============================] - 10s 174us/step - loss: 0.3728 - val_loss: 0.3340\n",
      "Epoch 2/20\n",
      "60000/60000 [==============================] - 7s 109us/step - loss: 0.3241 - val_loss: 0.3211\n",
      "Epoch 3/20\n",
      "60000/60000 [==============================] - 7s 110us/step - loss: 0.3143 - val_loss: 0.3148\n",
      "Epoch 4/20\n",
      "60000/60000 [==============================] - 7s 109us/step - loss: 0.3075 - val_loss: 0.3205\n",
      "Epoch 5/20\n",
      "60000/60000 [==============================] - 7s 109us/step - loss: 0.3030 - val_loss: 0.3030\n",
      "Epoch 6/20\n",
      "60000/60000 [==============================] - 6s 108us/step - loss: 0.3007 - val_loss: 0.3000\n",
      "Epoch 7/20\n",
      "60000/60000 [==============================] - 7s 109us/step - loss: 0.2988 - val_loss: 0.3013\n",
      "Epoch 8/20\n",
      "60000/60000 [==============================] - 7s 110us/step - loss: 0.2969 - val_loss: 0.2982\n",
      "Epoch 9/20\n",
      "60000/60000 [==============================] - 6s 108us/step - loss: 0.2958 - val_loss: 0.2955\n",
      "Epoch 10/20\n",
      "60000/60000 [==============================] - 6s 107us/step - loss: 0.2946 - val_loss: 0.2945\n",
      "Epoch 11/20\n",
      "60000/60000 [==============================] - 6s 106us/step - loss: 0.2935 - val_loss: 0.2971\n",
      "Epoch 12/20\n",
      "60000/60000 [==============================] - 6s 107us/step - loss: 0.2931 - val_loss: 0.2985\n",
      "Epoch 13/20\n",
      "60000/60000 [==============================] - 6s 107us/step - loss: 0.2927 - val_loss: 0.2926\n",
      "Epoch 14/20\n",
      "60000/60000 [==============================] - 6s 108us/step - loss: 0.2918 - val_loss: 0.2912\n",
      "Epoch 15/20\n",
      "60000/60000 [==============================] - 6s 108us/step - loss: 0.2911 - val_loss: 0.2933\n",
      "Epoch 16/20\n",
      "60000/60000 [==============================] - 6s 107us/step - loss: 0.2906 - val_loss: 0.2933\n",
      "Epoch 17/20\n",
      "60000/60000 [==============================] - 6s 106us/step - loss: 0.2900 - val_loss: 0.2976\n",
      "Epoch 18/20\n",
      "60000/60000 [==============================] - 6s 106us/step - loss: 0.2897 - val_loss: 0.2889\n",
      "Epoch 19/20\n",
      "60000/60000 [==============================] - 6s 106us/step - loss: 0.2895 - val_loss: 0.2893\n",
      "Epoch 20/20\n",
      "60000/60000 [==============================] - 6s 106us/step - loss: 0.2891 - val_loss: 0.2923\n"
     ]
    }
   ],
   "source": [
    "#from keras.callbacks import TensorBoard\n",
    "auto_encoder_result = autoencoder.fit(x_train, x_train,\n",
    "                epochs=20,\n",
    "                batch_size=128,\n",
    "                shuffle=True,\n",
    "                validation_data=(x_test, x_test))"
   ]
  },
  {
   "cell_type": "code",
   "execution_count": 0,
   "metadata": {
    "colab": {
     "base_uri": "https://localhost:8080/",
     "height": 294
    },
    "colab_type": "code",
    "id": "U5VThLEwu0Fi",
    "outputId": "6acd0c76-e4b6-499b-f436-4b32685c6e0b"
   },
   "outputs": [
    {
     "data": {
      "image/png": "[encoded data removed]",
      "text/plain": [
       "<matplotlib.figure.Figure at 0x7f48a4e32400>"
      ]
     },
     "metadata": {
      "tags": []
     },
     "output_type": "display_data"
    }
   ],
   "source": [
    "# Visualize the loss\n",
    "def loss_plot(history):\n",
    "    # summarize history for loss\n",
    "    plt.plot(history.history['loss'])\n",
    "    plt.plot(history.history['val_loss'])\n",
    "    plt.title('model loss')\n",
    "    plt.ylabel('loss')\n",
    "    plt.xlabel('epoch')\n",
    "    plt.legend(['train', 'test'], loc='upper right')\n",
    "    plt.show()\n",
    "\n",
    "loss_plot(auto_encoder_result)"
   ]
  },
  {
   "cell_type": "code",
   "execution_count": 0,
   "metadata": {
    "colab": {
     "base_uri": "https://localhost:8080/",
     "height": 244
    },
    "colab_type": "code",
    "id": "tMySfNlpLdoB",
    "outputId": "5aee507b-13bf-42a0-a296-74c666ac87c0"
   },
   "outputs": [
    {
     "data": {
      "image/png": "[encoded data removed]",
      "text/plain": [
       "<matplotlib.figure.Figure at 0x7f48a198a8d0>"
      ]
     },
     "metadata": {
      "tags": []
     },
     "output_type": "display_data"
    }
   ],
   "source": [
    "#decode image and visualize\n",
    "decoded_imgs = autoencoder.predict(x_test)\n",
    "\n",
    "n = 10\n",
    "plt.figure(figsize=(20, 4))\n",
    "\n",
    "for i in range(n):\n",
    "    # display original\n",
    "    ax = plt.subplot(2, n, i+1)\n",
    "    plt.imshow(x_test[i].reshape(28, 28))\n",
    "    plt.gray()\n",
    "    ax.get_xaxis().set_visible(False)\n",
    "    ax.get_yaxis().set_visible(False)\n",
    "\n",
    "    # display reconstruction\n",
    "    ax = plt.subplot(2, n, i + n+1)\n",
    "    plt.imshow(decoded_imgs[i].reshape(28, 28))\n",
    "    plt.gray()\n",
    "    ax.get_xaxis().set_visible(False)\n",
    "    ax.get_yaxis().set_visible(False)\n",
    "\n",
    "plt.show()"
   ]
  },
  {
   "cell_type": "markdown",
   "metadata": {
    "colab_type": "text",
    "id": "DWvqMcpTIrN6"
   },
   "source": [
    "From above result, we can see that the test loss and the train loss are similar and the structure of the ouput picture is still recognizable."
   ]
  },
  {
   "cell_type": "markdown",
   "metadata": {
    "colab_type": "text",
    "id": "yj86QBOCu0Fu"
   },
   "source": [
    "# 2 Image Classification\n",
    "\n",
    "We'll continue to use the Fashion MNIST dataset and build a deep convolutional\n",
    "network for classification."
   ]
  },
  {
   "cell_type": "markdown",
   "metadata": {
    "colab_type": "text",
    "id": "RBQQnRwJu0Fw"
   },
   "source": [
    "## 2.1 Deep CNN\n",
    "\n",
    "Build a deep CNN to classify the images. Provide a brief description of the\n",
    "architectural choices you've made: kernel sizes, strides, padding, network depth.\n",
    "Train your network end-to-end. Report on your model's performance on training\n",
    "set and test set."
   ]
  },
  {
   "cell_type": "markdown",
   "metadata": {
    "colab_type": "text",
    "id": "txpA8ecbzv8o"
   },
   "source": [
    "### Data Preperation"
   ]
  },
  {
   "cell_type": "code",
   "execution_count": 0,
   "metadata": {
    "colab": {
     "base_uri": "https://localhost:8080/",
     "height": 85
    },
    "colab_type": "code",
    "id": "OCQjnlLmu0F0",
    "outputId": "ad27a1b1-1395-4a35-a0f9-cfd4f3daadf2"
   },
   "outputs": [
    {
     "name": "stdout",
     "output_type": "stream",
     "text": [
      "(60000, 28, 28)\n",
      "(10000, 28, 28)\n",
      "(60000, 28, 28, 1)\n",
      "(10000, 28, 28, 1)\n"
     ]
    }
   ],
   "source": [
    "# Load fashion mnist data\n",
    "(x_train, y_train), (x_test, y_test) = fashion_mnist.load_data()\n",
    "\n",
    "# normalize data\n",
    "x_train = x_train.astype('float32') / 255.\n",
    "x_test = x_test.astype('float32') / 255.\n",
    "\n",
    "print(x_train.shape)\n",
    "print(x_test.shape)\n",
    "\n",
    "# reshape data\n",
    "x_train = x_train.reshape(x_train.shape[0], 28, 28, 1)  \n",
    "x_test = x_test.reshape(x_test.shape[0], 28, 28, 1)\n",
    "\n",
    "print(x_train.shape)\n",
    "print(x_test.shape)\n",
    "\n",
    "# make a categorical clothing type\n",
    "y_train = np_utils.to_categorical(y_train, 10)\n",
    "y_test = np_utils.to_categorical(y_test, 10)"
   ]
  },
  {
   "cell_type": "markdown",
   "metadata": {
    "colab_type": "text",
    "id": "8gYBi7V5z0Dg"
   },
   "source": [
    "### Add Layers\n",
    "\n"
   ]
  },
  {
   "cell_type": "code",
   "execution_count": 0,
   "metadata": {
    "colab": {
     "base_uri": "https://localhost:8080/",
     "height": 442
    },
    "colab_type": "code",
    "id": "AZAQeth3u0F6",
    "outputId": "fb29e787-7dd6-487c-b850-5572c5e71907"
   },
   "outputs": [
    {
     "name": "stdout",
     "output_type": "stream",
     "text": [
      "_________________________________________________________________\n",
      "Layer (type)                 Output Shape              Param #   \n",
      "=================================================================\n",
      "conv2d_26 (Conv2D)           (None, 26, 26, 64)        640       \n",
      "_________________________________________________________________\n",
      "max_pooling2d_14 (MaxPooling (None, 13, 13, 64)        0         \n",
      "_________________________________________________________________\n",
      "conv2d_27 (Conv2D)           (None, 11, 11, 64)        36928     \n",
      "_________________________________________________________________\n",
      "max_pooling2d_15 (MaxPooling (None, 5, 5, 64)          0         \n",
      "_________________________________________________________________\n",
      "dropout_11 (Dropout)         (None, 5, 5, 64)          0         \n",
      "_________________________________________________________________\n",
      "flatten_6 (Flatten)          (None, 1600)              0         \n",
      "_________________________________________________________________\n",
      "dense_15 (Dense)             (None, 64)                102464    \n",
      "_________________________________________________________________\n",
      "dropout_12 (Dropout)         (None, 64)                0         \n",
      "_________________________________________________________________\n",
      "dense_16 (Dense)             (None, 10)                650       \n",
      "=================================================================\n",
      "Total params: 140,682\n",
      "Trainable params: 140,682\n",
      "Non-trainable params: 0\n",
      "_________________________________________________________________\n"
     ]
    }
   ],
   "source": [
    "model = Sequential()\n",
    "\n",
    "model.add(Conv2D(filters = 64,kernel_size=(3, 3), \n",
    "                 activation='relu', strides=(1, 1), \n",
    "                 padding='valid',\n",
    "                 input_shape=(28,28,1)))\n",
    "\n",
    "\n",
    "model.add(MaxPooling2D(pool_size=(2,2)))\n",
    "\n",
    "model.add(Conv2D(filters = 64,kernel_size=(3, 3), \n",
    "                 activation='relu', strides=(1, 1), \n",
    "                 padding='valid'))\n",
    "\n",
    "model.add(MaxPooling2D(pool_size=(2,2)))\n",
    "\n",
    "model.add(Dropout(0.25))\n",
    "model.add(Flatten())\n",
    "model.add(Dense(64, activation='relu'))\n",
    "model.add(Dropout(0.5))\n",
    "model.add(Dense(10, activation='softmax'))\n",
    "\n",
    "model.summary()\n",
    "model.compile(loss='categorical_crossentropy',\n",
    "              optimizer='adam',\n",
    "              metrics=['accuracy'])"
   ]
  },
  {
   "cell_type": "code",
   "execution_count": 0,
   "metadata": {
    "colab": {
     "base_uri": "https://localhost:8080/",
     "height": 1054
    },
    "colab_type": "code",
    "id": "alABHPYbu0F9",
    "outputId": "c9b77f08-aea7-4ba0-8eb8-bcb25b494e28"
   },
   "outputs": [
    {
     "name": "stdout",
     "output_type": "stream",
     "text": [
      "Train on 60000 samples, validate on 10000 samples\n",
      "Epoch 1/30\n",
      "60000/60000 [==============================] - 8s 137us/step - loss: 0.7417 - acc: 0.7317 - val_loss: 0.4370 - val_acc: 0.8349\n",
      "Epoch 2/30\n",
      "60000/60000 [==============================] - 7s 119us/step - loss: 0.4759 - acc: 0.8298 - val_loss: 0.3550 - val_acc: 0.8713\n",
      "Epoch 3/30\n",
      "60000/60000 [==============================] - 7s 119us/step - loss: 0.4183 - acc: 0.8506 - val_loss: 0.3376 - val_acc: 0.8743\n",
      "Epoch 4/30\n",
      "60000/60000 [==============================] - 7s 120us/step - loss: 0.3846 - acc: 0.8624 - val_loss: 0.3130 - val_acc: 0.8839\n",
      "Epoch 5/30\n",
      "60000/60000 [==============================] - 7s 122us/step - loss: 0.3618 - acc: 0.8709 - val_loss: 0.2983 - val_acc: 0.8902\n",
      "Epoch 6/30\n",
      "60000/60000 [==============================] - 7s 121us/step - loss: 0.3425 - acc: 0.8762 - val_loss: 0.2904 - val_acc: 0.8900\n",
      "Epoch 7/30\n",
      "60000/60000 [==============================] - 7s 119us/step - loss: 0.3228 - acc: 0.8836 - val_loss: 0.2912 - val_acc: 0.8924\n",
      "Epoch 8/30\n",
      "60000/60000 [==============================] - 7s 119us/step - loss: 0.3147 - acc: 0.8862 - val_loss: 0.2769 - val_acc: 0.9027\n",
      "Epoch 9/30\n",
      "60000/60000 [==============================] - 7s 118us/step - loss: 0.3004 - acc: 0.8908 - val_loss: 0.2618 - val_acc: 0.9061\n",
      "Epoch 10/30\n",
      "60000/60000 [==============================] - 7s 118us/step - loss: 0.2899 - acc: 0.8954 - val_loss: 0.2593 - val_acc: 0.9022\n",
      "Epoch 11/30\n",
      "60000/60000 [==============================] - 7s 118us/step - loss: 0.2798 - acc: 0.8981 - val_loss: 0.2613 - val_acc: 0.9039\n",
      "Epoch 12/30\n",
      "60000/60000 [==============================] - 7s 119us/step - loss: 0.2752 - acc: 0.8994 - val_loss: 0.2573 - val_acc: 0.9031\n",
      "Epoch 13/30\n",
      "60000/60000 [==============================] - 7s 118us/step - loss: 0.2706 - acc: 0.9017 - val_loss: 0.2478 - val_acc: 0.9075\n",
      "Epoch 14/30\n",
      "60000/60000 [==============================] - 7s 118us/step - loss: 0.2632 - acc: 0.9047 - val_loss: 0.2586 - val_acc: 0.9021\n",
      "Epoch 15/30\n",
      "60000/60000 [==============================] - 7s 119us/step - loss: 0.2554 - acc: 0.9061 - val_loss: 0.2452 - val_acc: 0.9082\n",
      "Epoch 16/30\n",
      "60000/60000 [==============================] - 7s 120us/step - loss: 0.2508 - acc: 0.9081 - val_loss: 0.2415 - val_acc: 0.9117\n",
      "Epoch 17/30\n",
      "60000/60000 [==============================] - 7s 120us/step - loss: 0.2446 - acc: 0.9096 - val_loss: 0.2412 - val_acc: 0.9127\n",
      "Epoch 18/30\n",
      "60000/60000 [==============================] - 7s 118us/step - loss: 0.2409 - acc: 0.9110 - val_loss: 0.2385 - val_acc: 0.9104\n",
      "Epoch 19/30\n",
      "60000/60000 [==============================] - 7s 118us/step - loss: 0.2337 - acc: 0.9130 - val_loss: 0.2432 - val_acc: 0.9125\n",
      "Epoch 20/30\n",
      "60000/60000 [==============================] - 7s 118us/step - loss: 0.2312 - acc: 0.9148 - val_loss: 0.2409 - val_acc: 0.9104\n",
      "Epoch 21/30\n",
      "60000/60000 [==============================] - 7s 118us/step - loss: 0.2280 - acc: 0.9154 - val_loss: 0.2353 - val_acc: 0.9133\n",
      "Epoch 22/30\n",
      "60000/60000 [==============================] - 7s 118us/step - loss: 0.2253 - acc: 0.9168 - val_loss: 0.2379 - val_acc: 0.9107\n",
      "Epoch 23/30\n",
      "60000/60000 [==============================] - 7s 118us/step - loss: 0.2203 - acc: 0.9168 - val_loss: 0.2517 - val_acc: 0.9095\n",
      "Epoch 24/30\n",
      "60000/60000 [==============================] - 7s 121us/step - loss: 0.2185 - acc: 0.9185 - val_loss: 0.2462 - val_acc: 0.9100\n",
      "Epoch 25/30\n",
      "60000/60000 [==============================] - 7s 119us/step - loss: 0.2158 - acc: 0.9196 - val_loss: 0.2442 - val_acc: 0.9141\n",
      "Epoch 26/30\n",
      "60000/60000 [==============================] - 7s 118us/step - loss: 0.2083 - acc: 0.9220 - val_loss: 0.2388 - val_acc: 0.9158\n",
      "Epoch 27/30\n",
      "60000/60000 [==============================] - 7s 119us/step - loss: 0.2095 - acc: 0.9217 - val_loss: 0.2316 - val_acc: 0.9148\n",
      "Epoch 28/30\n",
      "60000/60000 [==============================] - 7s 119us/step - loss: 0.2078 - acc: 0.9214 - val_loss: 0.2370 - val_acc: 0.9157\n",
      "Epoch 29/30\n",
      "60000/60000 [==============================] - 7s 118us/step - loss: 0.2032 - acc: 0.9238 - val_loss: 0.2390 - val_acc: 0.9147\n",
      "Epoch 30/30\n",
      "60000/60000 [==============================] - 7s 118us/step - loss: 0.2021 - acc: 0.9257 - val_loss: 0.2406 - val_acc: 0.9135\n"
     ]
    }
   ],
   "source": [
    "model_training = model.fit(x_train,\n",
    "                             y_train,\n",
    "                             batch_size=128,\n",
    "                             epochs=30,\n",
    "                             validation_data=(x_test, y_test))"
   ]
  },
  {
   "cell_type": "code",
   "execution_count": 0,
   "metadata": {
    "colab": {
     "base_uri": "https://localhost:8080/",
     "height": 362
    },
    "colab_type": "code",
    "id": "GtTtG-Xcu0GI",
    "outputId": "ca94596f-99e6-4b65-e560-098624356896"
   },
   "outputs": [
    {
     "name": "stdout",
     "output_type": "stream",
     "text": [
      "10000/10000 [==============================] - 1s 98us/step\n",
      "60000/60000 [==============================] - 6s 102us/step\n",
      "[0.24062041827738284, 0.9135]\n",
      "[0.1231060484106342, 0.9525666666666667]\n"
     ]
    },
    {
     "data": {
      "image/png": "[encoded data removed]",
      "text/plain": [
       "<matplotlib.figure.Figure at 0x7f488384d550>"
      ]
     },
     "metadata": {
      "tags": []
     },
     "output_type": "display_data"
    }
   ],
   "source": [
    "# Evaluate and Plot history\n",
    "\n",
    "test_score = model.evaluate(x_test, y_test)\n",
    "train_score = model.evaluate(x_train, y_train)\n",
    "print(test_score)\n",
    "print(train_score)\n",
    "loss_plot(model_training)"
   ]
  },
  {
   "cell_type": "markdown",
   "metadata": {
    "colab_type": "text",
    "id": "TeZEUWPPMElF"
   },
   "source": [
    "Here, I chosed a network with two convolutional layers with 64 filters, kernel_size = (3,3), strides = (1,1) and chosed padding = \"valid\". Also with a dense layer of size 64.  \n",
    "\n",
    "From the above result, the model achieved an 91.35% accuracy on test data after 30 epochs and the loss is around 0.24. Also, the model achieved a 95.25% accuracy and 0.12 loss on train data."
   ]
  },
  {
   "cell_type": "markdown",
   "metadata": {
    "colab_type": "text",
    "id": "-gYTaJdUu0GP"
   },
   "source": [
    "## 2.2 Trasfer Learning"
   ]
  },
  {
   "cell_type": "markdown",
   "metadata": {
    "colab_type": "text",
    "id": "Mv8lWME_u0GP"
   },
   "source": [
    "Repeat the same task, but this time utilize a pre-trained network for the major-\n",
    "ity of your model. You should only train the final Dense layer, all other weights\n",
    "should be fixed. You can use whichever pre-trained backbone you like (ResNet,\n",
    "VGG, etc). Report on your model's performance on training set and test set."
   ]
  },
  {
   "cell_type": "markdown",
   "metadata": {
    "colab_type": "text",
    "id": "e1Hd7G-ZAnZu"
   },
   "source": [
    "### Data Prep"
   ]
  },
  {
   "cell_type": "code",
   "execution_count": 0,
   "metadata": {
    "colab": {
     "base_uri": "https://localhost:8080/",
     "height": 119
    },
    "colab_type": "code",
    "id": "oNCXvPGwu0GQ",
    "outputId": "a0c154bf-b027-407d-ab8f-bfb3e606b43b"
   },
   "outputs": [
    {
     "name": "stdout",
     "output_type": "stream",
     "text": [
      "(60000, 28, 28)\n",
      "(10000, 28, 28)\n",
      "(60000, 28, 28, 1)\n",
      "(10000, 28, 28, 1)\n",
      "(60000, 48, 48, 3)\n",
      "(10000, 48, 48, 3)\n"
     ]
    }
   ],
   "source": [
    "# Load fashion mnist data\n",
    "(x_train, y_train), (x_test, y_test) = fashion_mnist.load_data()\n",
    "\n",
    "# normalize data\n",
    "x_train = x_train.astype('float32') / 255.\n",
    "x_test = x_test.astype('float32') / 255.\n",
    "\n",
    "print(x_train.shape)\n",
    "print(x_test.shape)\n",
    "\n",
    "# reshape data\n",
    "x_train = x_train.reshape(x_train.shape[0], 28, 28, 1)  \n",
    "x_test = x_test.reshape(x_test.shape[0], 28, 28, 1)\n",
    "\n",
    "print(x_train.shape)\n",
    "print(x_test.shape)\n",
    "\n",
    "# make a categorical clothing type\n",
    "y_train = np_utils.to_categorical(y_train, 10)\n",
    "y_test = np_utils.to_categorical(y_test, 10)\n",
    "\n",
    "\n",
    "x_train_tl = np.asarray([cv2.resize(x, (48,48)) for x in x_train])\n",
    "x_test_tl = np.asarray([cv2.resize(x, (48,48)) for x in x_test])\n",
    "\n",
    "x_train_tl = x_train_tl.reshape(x_train_tl.shape[0], 48, 48,1)\n",
    "x_test_tl  = x_test_tl.reshape(x_test_tl.shape[0], 48, 48, 1)\n",
    "\n",
    "# make gray images into rgb images\n",
    "x_train_tl = x_train_tl.repeat(3, axis=-1)\n",
    "x_test_tl  = x_test_tl.repeat(3, axis=-1)\n",
    "\n",
    "print(x_train_tl.shape)\n",
    "print(x_test_tl.shape)\n"
   ]
  },
  {
   "cell_type": "code",
   "execution_count": 0,
   "metadata": {
    "colab": {
     "base_uri": "https://localhost:8080/",
     "height": 272
    },
    "colab_type": "code",
    "id": "SQ20Wxq4u0GT",
    "outputId": "ca485035-81c3-4808-903c-d4f2587bf6c8"
   },
   "outputs": [
    {
     "name": "stdout",
     "output_type": "stream",
     "text": [
      "_________________________________________________________________\n",
      "Layer (type)                 Output Shape              Param #   \n",
      "=================================================================\n",
      "vgg16 (Model)                (None, 1, 1, 512)         14714688  \n",
      "_________________________________________________________________\n",
      "flatten_15 (Flatten)         (None, 512)               0         \n",
      "_________________________________________________________________\n",
      "dense_33 (Dense)             (None, 256)               131328    \n",
      "_________________________________________________________________\n",
      "dense_34 (Dense)             (None, 10)                2570      \n",
      "=================================================================\n",
      "Total params: 14,848,586\n",
      "Trainable params: 133,898\n",
      "Non-trainable params: 14,714,688\n",
      "_________________________________________________________________\n"
     ]
    }
   ],
   "source": [
    "conv_base = VGG16(weights=\"imagenet\",include_top=False,input_shape=(48,48,3))\n",
    "\n",
    "model = Sequential()\n",
    "model.add(conv_base)\n",
    "model.add(Flatten())\n",
    "model.add(Dense(256, activation=\"relu\"))\n",
    "model.add(Dense(10, activation=\"softmax\"))\n",
    "\n",
    "conv_base.trainable = False\n",
    "model.summary()"
   ]
  },
  {
   "cell_type": "code",
   "execution_count": 0,
   "metadata": {
    "colab": {
     "base_uri": "https://localhost:8080/",
     "height": 544
    },
    "colab_type": "code",
    "id": "ukDo_RoOE92E",
    "outputId": "34e90408-50e2-4c05-c5ad-b889cdd7291b"
   },
   "outputs": [
    {
     "name": "stdout",
     "output_type": "stream",
     "text": [
      "Train on 60000 samples, validate on 10000 samples\n",
      "Epoch 1/15\n",
      "60000/60000 [==============================] - 42s 708us/step - loss: 0.5586 - acc: 0.8095 - val_loss: 0.4310 - val_acc: 0.8462\n",
      "Epoch 2/15\n",
      "60000/60000 [==============================] - 41s 680us/step - loss: 0.3958 - acc: 0.8574 - val_loss: 0.3966 - val_acc: 0.8592\n",
      "Epoch 3/15\n",
      "60000/60000 [==============================] - 41s 680us/step - loss: 0.3627 - acc: 0.8684 - val_loss: 0.3912 - val_acc: 0.8576\n",
      "Epoch 4/15\n",
      "60000/60000 [==============================] - 41s 680us/step - loss: 0.3431 - acc: 0.8740 - val_loss: 0.3749 - val_acc: 0.8673\n",
      "Epoch 5/15\n",
      "60000/60000 [==============================] - 41s 680us/step - loss: 0.3268 - acc: 0.8800 - val_loss: 0.3665 - val_acc: 0.8696\n",
      "Epoch 6/15\n",
      "60000/60000 [==============================] - 41s 680us/step - loss: 0.3152 - acc: 0.8849 - val_loss: 0.3545 - val_acc: 0.8761\n",
      "Epoch 7/15\n",
      "60000/60000 [==============================] - 41s 680us/step - loss: 0.3003 - acc: 0.8904 - val_loss: 0.3609 - val_acc: 0.8735\n",
      "Epoch 8/15\n",
      "60000/60000 [==============================] - 41s 680us/step - loss: 0.2888 - acc: 0.8941 - val_loss: 0.3475 - val_acc: 0.8774\n",
      "Epoch 9/15\n",
      "60000/60000 [==============================] - 41s 681us/step - loss: 0.2791 - acc: 0.8969 - val_loss: 0.3493 - val_acc: 0.8778\n",
      "Epoch 10/15\n",
      "60000/60000 [==============================] - 41s 681us/step - loss: 0.2681 - acc: 0.9017 - val_loss: 0.3436 - val_acc: 0.8794\n",
      "Epoch 11/15\n",
      "60000/60000 [==============================] - 41s 680us/step - loss: 0.2598 - acc: 0.9040 - val_loss: 0.3461 - val_acc: 0.8772\n",
      "Epoch 12/15\n",
      "60000/60000 [==============================] - 41s 680us/step - loss: 0.2530 - acc: 0.9065 - val_loss: 0.3429 - val_acc: 0.8788\n",
      "Epoch 13/15\n",
      "60000/60000 [==============================] - 41s 680us/step - loss: 0.2435 - acc: 0.9103 - val_loss: 0.3435 - val_acc: 0.8820\n",
      "Epoch 14/15\n",
      "60000/60000 [==============================] - 41s 680us/step - loss: 0.2373 - acc: 0.9125 - val_loss: 0.3376 - val_acc: 0.8841\n",
      "Epoch 15/15\n",
      "60000/60000 [==============================] - 41s 679us/step - loss: 0.2297 - acc: 0.9154 - val_loss: 0.3341 - val_acc: 0.8859\n"
     ]
    }
   ],
   "source": [
    "model.compile(loss=\"categorical_crossentropy\", optimizer='adam', metrics=[\"acc\"])\n",
    "\n",
    "tl_model = model.fit(x_train_tl, \n",
    "          y_train,\n",
    "          batch_size=128,\n",
    "          shuffle=True,\n",
    "          epochs=15, \n",
    "          validation_data=(x_test_tl, y_test))"
   ]
  },
  {
   "cell_type": "code",
   "execution_count": 0,
   "metadata": {
    "colab": {
     "base_uri": "https://localhost:8080/",
     "height": 51
    },
    "colab_type": "code",
    "id": "GWhPxuTru0Gm",
    "outputId": "b0827f99-ce07-4a22-f58b-44425263f8b7"
   },
   "outputs": [
    {
     "name": "stdout",
     "output_type": "stream",
     "text": [
      "Test:  [0.33409591370821, 0.8859]\n",
      "Train:  [0.2104995892037948, 0.9241333333333334]\n"
     ]
    }
   ],
   "source": [
    "# Evaluate the model \n",
    "score_test = model.evaluate(x_test_tl, y_test, verbose=0)\n",
    "print(\"Test: \",score_test)\n",
    "score_train = model.evaluate(x_train_tl, y_train, verbose=0)\n",
    "print(\"Train: \",score_train)"
   ]
  },
  {
   "cell_type": "code",
   "execution_count": 0,
   "metadata": {
    "colab": {
     "base_uri": "https://localhost:8080/",
     "height": 294
    },
    "colab_type": "code",
    "id": "AD9yXTm9kZVj",
    "outputId": "72c4dee7-3d63-46a4-a5fa-dfe3fc7a4506"
   },
   "outputs": [
    {
     "data": {
      "image/png": "[encoded data removed]",
      "text/plain": [
       "<matplotlib.figure.Figure at 0x7f481eec5c50>"
      ]
     },
     "metadata": {
      "tags": []
     },
     "output_type": "display_data"
    }
   ],
   "source": [
    "loss_plot(tl_model)"
   ]
  },
  {
   "cell_type": "markdown",
   "metadata": {
    "colab_type": "text",
    "id": "S1rjBb4oM4I-"
   },
   "source": [
    "Here I choosed to use the VGG pre-trained backbone. With a final dense layer of size 256, the model achieved an accuracy about 88.59% and 0.33 loss on test set. The accuracy and loss on train set is around 92.4% and 0.21. Compare to the deep CNN model, the result is not as good as the deep CNN model."
   ]
  },
  {
   "cell_type": "markdown",
   "metadata": {
    "colab_type": "text",
    "id": "xywVFjZMu0Gs"
   },
   "source": [
    "# 3 Text Classification"
   ]
  },
  {
   "cell_type": "markdown",
   "metadata": {
    "colab_type": "text",
    "id": "NCS2k_aHu0Gt"
   },
   "source": [
    "While images contain local spatial correlations and structure, many other datasets\n",
    "contain temporal correlations. Examples include time series and discrete se-\n",
    "quences such as text. In this problem, we will tackle the task of text classi\f",
    "ca-\n",
    "tion in the context of natural language.\n",
    "\n",
    "Background. In this problem, we will build models that read short text\n",
    "segments (tweets) and identify if one or more specific topics are being discussed.\n",
    "Dataset. The dataset consists of tweets along with labels for which topics\n",
    "were being referenced in the tweet. Examples of the topics include \"storms\",\n",
    "\"rain\", \"hurricane\", \"snow\" and so on. Unlike previous classification problems\n",
    "we have encountered, in this dataset, there is not just a single right answer.\n",
    "The labels here are derived from multiple annotators decided how to label each\n",
    "tweet, so a single tweet can be about more than one topic. The label is the\n",
    "fraction of annotations for a given topic, and each row should sum to 1.\n",
    "What Loss function should you use here? Categorical CrossEntropy might\n",
    "work, but with some modification since we don't have \"hard\" labels over the\n",
    "categories. Another option might be sigmoid: for each output category, use a\n",
    "sigmoid to collapse the output to between 0 and 1, but each category output\n",
    "can be roughly independent of the others. In the problems below, feel free to\n",
    "try both."
   ]
  },
  {
   "cell_type": "markdown",
   "metadata": {
    "colab_type": "text",
    "id": "vYHh1fApu0Gt"
   },
   "source": [
    "## 3.1 RNN\n",
    "\n",
    "Build and train a Recurrent Neural Network to solve this text classi\f",
    "cation task.\n",
    "You can use any type of RNN you wish (SimpleRNN, GRU, LSTM)."
   ]
  },
  {
   "cell_type": "markdown",
   "metadata": {
    "colab_type": "text",
    "id": "8zbEH842zUHD"
   },
   "source": [
    "### Data Prep"
   ]
  },
  {
   "cell_type": "code",
   "execution_count": 3,
   "metadata": {
    "colab": {
     "base_uri": "https://localhost:8080/",
     "height": 102
    },
    "colab_type": "code",
    "id": "HvcjkMahu0Gu",
    "outputId": "832419e1-56a7-498d-bb31-8546d568452f"
   },
   "outputs": [
    {
     "data": {
      "text/html": [
       "<div>\n",
       "<style scoped>\n",
       "    .dataframe tbody tr th:only-of-type {\n",
       "        vertical-align: middle;\n",
       "    }\n",
       "\n",
       "    .dataframe tbody tr th {\n",
       "        vertical-align: top;\n",
       "    }\n",
       "\n",
       "    .dataframe thead th {\n",
       "        text-align: right;\n",
       "    }\n",
       "</style>\n",
       "<table border=\"1\" class=\"dataframe\">\n",
       "  <thead>\n",
       "    <tr style=\"text-align: right;\">\n",
       "      <th></th>\n",
       "      <th>id</th>\n",
       "      <th>tweet</th>\n",
       "      <th>k1</th>\n",
       "      <th>k2</th>\n",
       "      <th>k3</th>\n",
       "      <th>k4</th>\n",
       "      <th>k5</th>\n",
       "      <th>k6</th>\n",
       "      <th>k7</th>\n",
       "      <th>k8</th>\n",
       "      <th>k9</th>\n",
       "      <th>k10</th>\n",
       "      <th>k11</th>\n",
       "      <th>k12</th>\n",
       "      <th>k13</th>\n",
       "      <th>k14</th>\n",
       "      <th>k15</th>\n",
       "    </tr>\n",
       "  </thead>\n",
       "  <tbody>\n",
       "    <tr>\n",
       "      <th>0</th>\n",
       "      <td>1</td>\n",
       "      <td>Jazz for a Rainy Afternoon:  {link}</td>\n",
       "      <td>0.0</td>\n",
       "      <td>0.0</td>\n",
       "      <td>0.0</td>\n",
       "      <td>0.0</td>\n",
       "      <td>0.0</td>\n",
       "      <td>0.0</td>\n",
       "      <td>0.000</td>\n",
       "      <td>0.0</td>\n",
       "      <td>0.000</td>\n",
       "      <td>1.0</td>\n",
       "      <td>0.0</td>\n",
       "      <td>0.0</td>\n",
       "      <td>0.000</td>\n",
       "      <td>0.0</td>\n",
       "      <td>0.0</td>\n",
       "    </tr>\n",
       "    <tr>\n",
       "      <th>1</th>\n",
       "      <td>2</td>\n",
       "      <td>RT: @mention: I love rainy days.</td>\n",
       "      <td>0.0</td>\n",
       "      <td>0.0</td>\n",
       "      <td>0.0</td>\n",
       "      <td>0.0</td>\n",
       "      <td>0.0</td>\n",
       "      <td>0.0</td>\n",
       "      <td>0.000</td>\n",
       "      <td>0.0</td>\n",
       "      <td>0.000</td>\n",
       "      <td>1.0</td>\n",
       "      <td>0.0</td>\n",
       "      <td>0.0</td>\n",
       "      <td>0.000</td>\n",
       "      <td>0.0</td>\n",
       "      <td>0.0</td>\n",
       "    </tr>\n",
       "    <tr>\n",
       "      <th>2</th>\n",
       "      <td>3</td>\n",
       "      <td>Good Morning Chicago! Time to kick the Windy C...</td>\n",
       "      <td>0.0</td>\n",
       "      <td>0.0</td>\n",
       "      <td>0.0</td>\n",
       "      <td>0.0</td>\n",
       "      <td>0.0</td>\n",
       "      <td>0.0</td>\n",
       "      <td>1.000</td>\n",
       "      <td>0.0</td>\n",
       "      <td>0.000</td>\n",
       "      <td>0.0</td>\n",
       "      <td>0.0</td>\n",
       "      <td>0.0</td>\n",
       "      <td>0.000</td>\n",
       "      <td>0.0</td>\n",
       "      <td>0.0</td>\n",
       "    </tr>\n",
       "    <tr>\n",
       "      <th>3</th>\n",
       "      <td>6</td>\n",
       "      <td>Preach lol! :) RT @mention: #alliwantis this t...</td>\n",
       "      <td>0.0</td>\n",
       "      <td>0.0</td>\n",
       "      <td>0.0</td>\n",
       "      <td>0.0</td>\n",
       "      <td>0.0</td>\n",
       "      <td>0.0</td>\n",
       "      <td>0.604</td>\n",
       "      <td>0.0</td>\n",
       "      <td>0.196</td>\n",
       "      <td>0.0</td>\n",
       "      <td>0.0</td>\n",
       "      <td>0.0</td>\n",
       "      <td>0.201</td>\n",
       "      <td>0.0</td>\n",
       "      <td>0.0</td>\n",
       "    </tr>\n",
       "    <tr>\n",
       "      <th>4</th>\n",
       "      <td>9</td>\n",
       "      <td>@mention good morning sunshine</td>\n",
       "      <td>0.0</td>\n",
       "      <td>0.0</td>\n",
       "      <td>0.0</td>\n",
       "      <td>0.0</td>\n",
       "      <td>0.0</td>\n",
       "      <td>0.0</td>\n",
       "      <td>0.000</td>\n",
       "      <td>0.0</td>\n",
       "      <td>0.000</td>\n",
       "      <td>0.0</td>\n",
       "      <td>0.0</td>\n",
       "      <td>0.0</td>\n",
       "      <td>1.000</td>\n",
       "      <td>0.0</td>\n",
       "      <td>0.0</td>\n",
       "    </tr>\n",
       "  </tbody>\n",
       "</table>\n",
       "</div>"
      ],
      "text/plain": [
       "   id                                              tweet   k1   k2   k3   k4  \\\n",
       "0   1                Jazz for a Rainy Afternoon:  {link}  0.0  0.0  0.0  0.0   \n",
       "1   2                   RT: @mention: I love rainy days.  0.0  0.0  0.0  0.0   \n",
       "2   3  Good Morning Chicago! Time to kick the Windy C...  0.0  0.0  0.0  0.0   \n",
       "3   6  Preach lol! :) RT @mention: #alliwantis this t...  0.0  0.0  0.0  0.0   \n",
       "4   9                     @mention good morning sunshine  0.0  0.0  0.0  0.0   \n",
       "\n",
       "    k5   k6     k7   k8     k9  k10  k11  k12    k13  k14  k15  \n",
       "0  0.0  0.0  0.000  0.0  0.000  1.0  0.0  0.0  0.000  0.0  0.0  \n",
       "1  0.0  0.0  0.000  0.0  0.000  1.0  0.0  0.0  0.000  0.0  0.0  \n",
       "2  0.0  0.0  1.000  0.0  0.000  0.0  0.0  0.0  0.000  0.0  0.0  \n",
       "3  0.0  0.0  0.604  0.0  0.196  0.0  0.0  0.0  0.201  0.0  0.0  \n",
       "4  0.0  0.0  0.000  0.0  0.000  0.0  0.0  0.0  1.000  0.0  0.0  "
      ]
     },
     "execution_count": 3,
     "metadata": {},
     "output_type": "execute_result"
    }
   ],
   "source": [
    "tweets = pd.read_csv(\"tweets_with_labels.csv\",sep =\"\\t\")\n",
    "tweets.head()"
   ]
  },
  {
   "cell_type": "code",
   "execution_count": 8,
   "metadata": {
    "colab": {},
    "colab_type": "code",
    "id": "aY_-n_OJ13tK"
   },
   "outputs": [],
   "source": [
    "def review_to_words(raw_review):\n",
    "    # 1. Remove HTML\n",
    "    review_text = BeautifulSoup(raw_review).get_text() \n",
    "    # 2. Remove non-letters        \n",
    "    letters_only = re.sub(\"[^a-zA-Z]\", \" \", review_text) \n",
    "    # 3. Convert to lower case, split into individual words\n",
    "    words = letters_only.lower().split()                             \n",
    "    # 4. In Python, searching a set is much faster than searching\n",
    "    return( \" \".join(words)) "
   ]
  },
  {
   "cell_type": "code",
   "execution_count": 9,
   "metadata": {
    "colab": {
     "base_uri": "https://localhost:8080/",
     "height": 340
    },
    "colab_type": "code",
    "id": "JNThBxRT38cU",
    "outputId": "bbf220fe-b20f-4a80-ae70-1e00a509f733"
   },
   "outputs": [],
   "source": [
    "tweets['tweet'] = tweets['tweet'].apply(review_to_words)\n",
    "X = tweets['tweet']\n",
    "y = tweets.drop(['id','tweet'],axis = 1).values"
   ]
  },
  {
   "cell_type": "code",
   "execution_count": 10,
   "metadata": {
    "colab": {
     "base_uri": "https://localhost:8080/",
     "height": 374
    },
    "colab_type": "code",
    "id": "j8d0xYZJ4NtK",
    "outputId": "7265a2e8-c54a-4e13-d21b-371f29fe8fa4"
   },
   "outputs": [
    {
     "name": "stdout",
     "output_type": "stream",
     "text": [
      "(49884,) (49884, 15)\n",
      "(12472,) (12472, 15)\n",
      "(15590,) (15590, 15)\n"
     ]
    }
   ],
   "source": [
    "# split test and train set\n",
    "x_train, x_test, y_train, y_test = train_test_split(X,y, test_size=0.20, random_state=30)\n",
    "#Shuffle data to get training and validation dataset for further use\n",
    "X_train_shuf, y_train_shuf = shuffle(x_train, y_train, random_state=30)\n",
    "X_train, X_valid, y_train,y_valid = train_test_split(X_train_shuf,y_train_shuf,test_size = 0.20, random_state = 30)\n",
    "print(X_train.shape,y_train.shape)\n",
    "print(X_valid.shape, y_valid.shape)\n",
    "print(x_test.shape,y_test.shape)"
   ]
  },
  {
   "cell_type": "code",
   "execution_count": 11,
   "metadata": {
    "colab": {
     "base_uri": "https://localhost:8080/",
     "height": 51
    },
    "colab_type": "code",
    "id": "quCykeunADzL",
    "outputId": "9d14bdec-ff8c-46ca-857d-24c50d6a4029"
   },
   "outputs": [],
   "source": [
    "MAX_NUM_WORDS = 500 \n",
    "MAX_SEQUENCE_LENGTH = 50 \n",
    "\n",
    "tokenizer = Tokenizer(num_words=MAX_NUM_WORDS)\n",
    "tokenizer.fit_on_texts(X_train)\n",
    "train_sequences = tokenizer.texts_to_sequences(X_train) \n",
    "valid_sequences = tokenizer.texts_to_sequences(X_valid)\n",
    "test_sequences = tokenizer.texts_to_sequences(x_test)"
   ]
  },
  {
   "cell_type": "code",
   "execution_count": 12,
   "metadata": {
    "colab": {
     "base_uri": "https://localhost:8080/",
     "height": 51
    },
    "colab_type": "code",
    "id": "bioodXfCANJS",
    "outputId": "cd8cb927-3dc1-43b8-dba7-0f9738c232b1"
   },
   "outputs": [],
   "source": [
    "text_train_2 = pad_sequences(train_sequences,maxlen=MAX_SEQUENCE_LENGTH)\n",
    "text_valid_2 = pad_sequences(valid_sequences,maxlen=MAX_SEQUENCE_LENGTH)\n",
    "text_test_2 = pad_sequences(test_sequences,maxlen=MAX_SEQUENCE_LENGTH)"
   ]
  },
  {
   "cell_type": "code",
   "execution_count": 13,
   "metadata": {},
   "outputs": [
    {
     "name": "stdout",
     "output_type": "stream",
     "text": [
      "Train on 49884 samples, validate on 12472 samples\n",
      "Epoch 1/10\n",
      "49884/49884 [==============================] - 14s 278us/step - loss: 2.0037 - acc: 0.5720 - val_loss: 1.4818 - val_acc: 0.7514\n",
      "Epoch 2/10\n",
      "49884/49884 [==============================] - 14s 283us/step - loss: 1.3925 - acc: 0.7758 - val_loss: 1.2915 - val_acc: 0.7981\n",
      "Epoch 3/10\n",
      "49884/49884 [==============================] - 13s 269us/step - loss: 1.2787 - acc: 0.8006 - val_loss: 1.2259 - val_acc: 0.8095\n",
      "Epoch 4/10\n",
      "49884/49884 [==============================] - 14s 271us/step - loss: 1.2327 - acc: 0.8070 - val_loss: 1.1961 - val_acc: 0.8106\n",
      "Epoch 5/10\n",
      "49884/49884 [==============================] - 13s 265us/step - loss: 1.2078 - acc: 0.8082 - val_loss: 1.1799 - val_acc: 0.8112\n",
      "Epoch 6/10\n",
      "49884/49884 [==============================] - 14s 282us/step - loss: 1.1916 - acc: 0.8118 - val_loss: 1.1730 - val_acc: 0.8110\n",
      "Epoch 7/10\n",
      "49884/49884 [==============================] - 15s 294us/step - loss: 1.1795 - acc: 0.8119 - val_loss: 1.1667 - val_acc: 0.8126\n",
      "Epoch 8/10\n",
      "49884/49884 [==============================] - 15s 308us/step - loss: 1.1691 - acc: 0.8146 - val_loss: 1.1646 - val_acc: 0.8153\n",
      "Epoch 9/10\n",
      "49884/49884 [==============================] - 13s 264us/step - loss: 1.1629 - acc: 0.8163 - val_loss: 1.1669 - val_acc: 0.8137\n",
      "Epoch 10/10\n",
      "49884/49884 [==============================] - 13s 265us/step - loss: 1.1561 - acc: 0.8171 - val_loss: 1.1570 - val_acc: 0.8145\n"
     ]
    }
   ],
   "source": [
    "model_RNN = Sequential()\n",
    "model_RNN.add(Embedding(MAX_NUM_WORDS, 64))\n",
    "#model.add(SimpleRNN(32))\n",
    "#model.add(GRU(32))\n",
    "model_RNN.add(LSTM(32))\n",
    "model_RNN.add(Dense(15, activation ='softmax'))\n",
    "model_RNN.compile(optimizer = 'rmsprop',\n",
    "             loss = 'categorical_crossentropy',\n",
    "             metrics=['acc'])\n",
    "rnn_history = model_RNN.fit(text_train_2, y_train,epochs = 10, batch_size = 128,validation_data =(text_valid_2,y_valid),verbose=1)"
   ]
  },
  {
   "cell_type": "code",
   "execution_count": 14,
   "metadata": {},
   "outputs": [
    {
     "name": "stdout",
     "output_type": "stream",
     "text": [
      "15590/15590 [==============================] - 2s 137us/step\n",
      "Test set\n",
      "  Loss: 1.171\n",
      "  Accuracy: 0.815\n"
     ]
    }
   ],
   "source": [
    "accr = model_RNN.evaluate(text_test_2,y_test)\n",
    "print('Test set\\n  Loss: {:0.3f}\\n  Accuracy: {:0.3f}'.format(accr[0],accr[1]))"
   ]
  },
  {
   "cell_type": "markdown",
   "metadata": {
    "colab_type": "text",
    "id": "AqnTawTHPktu"
   },
   "source": [
    "From the above result, we can see that the RNN (LSTM) achieved a 81.5% accuracy and a 1.171 loss on test set. "
   ]
  },
  {
   "cell_type": "markdown",
   "metadata": {
    "colab_type": "text",
    "id": "ICkkaMsq1U-k"
   },
   "source": [
    "## 3.2 CNN"
   ]
  },
  {
   "cell_type": "code",
   "execution_count": 16,
   "metadata": {
    "colab": {
     "base_uri": "https://localhost:8080/",
     "height": 102
    },
    "colab_type": "code",
    "id": "OnzC0SK-zVsV",
    "outputId": "53b808d3-d353-41b3-e1af-9438435527c6"
   },
   "outputs": [
    {
     "name": "stdout",
     "output_type": "stream",
     "text": [
      "Train on 49884 samples, validate on 12472 samples\n",
      "Epoch 1/10\n",
      "49884/49884 [==============================] - 1226s 25ms/step - loss: 1.8181 - acc: 0.6132 - val_loss: 1.2678 - val_acc: 0.7815\n",
      "Epoch 2/10\n",
      "49884/49884 [==============================] - 1373s 28ms/step - loss: 1.3816 - acc: 0.7674 - val_loss: 1.2259 - val_acc: 0.7996\n",
      "Epoch 3/10\n",
      "49884/49884 [==============================] - 1382s 28ms/step - loss: 1.3266 - acc: 0.7837 - val_loss: 1.2051 - val_acc: 0.8109\n",
      "Epoch 4/10\n",
      "49884/49884 [==============================] - 1373s 28ms/step - loss: 1.2894 - acc: 0.7939 - val_loss: 1.1824 - val_acc: 0.8105\n",
      "Epoch 5/10\n",
      "49884/49884 [==============================] - 1269s 25ms/step - loss: 1.2650 - acc: 0.7975 - val_loss: 1.1779 - val_acc: 0.8113\n",
      "Epoch 6/10\n",
      "49884/49884 [==============================] - 1210s 24ms/step - loss: 1.2447 - acc: 0.7973 - val_loss: 1.1747 - val_acc: 0.8077\n",
      "Epoch 7/10\n",
      "49884/49884 [==============================] - 1187s 24ms/step - loss: 1.2346 - acc: 0.7997 - val_loss: 1.1711 - val_acc: 0.8112\n",
      "Epoch 8/10\n",
      "49884/49884 [==============================] - 1174s 24ms/step - loss: 1.2224 - acc: 0.8004 - val_loss: 1.1673 - val_acc: 0.8102\n",
      "Epoch 9/10\n",
      "49884/49884 [==============================] - 1200s 24ms/step - loss: 1.2143 - acc: 0.8022 - val_loss: 1.1658 - val_acc: 0.8093\n",
      "Epoch 10/10\n",
      "49884/49884 [==============================] - 1250s 25ms/step - loss: 1.2070 - acc: 0.8022 - val_loss: 1.1617 - val_acc: 0.8110\n"
     ]
    }
   ],
   "source": [
    "model_CNN = Sequential()\n",
    "model_CNN.add(Embedding(MAX_NUM_WORDS,64))\n",
    "model_CNN.add(Conv1D(64,3,padding='valid',activation='relu',strides=1))\n",
    "model_CNN.add(GlobalMaxPooling1D())\n",
    "model_CNN.add(Dropout(0.5))\n",
    "model_CNN.add(Dense(64,activation='relu'))\n",
    "model_CNN.add(Dense(15,activation='sigmoid'))\n",
    "model_CNN.compile(optimizer = 'adam',\n",
    "             loss = 'categorical_crossentropy',\n",
    "             metrics=['acc'])\n",
    "cnn_history = model_CNN.fit(text_train_2, y_train,epochs = 10, batch_size = 64,validation_data =(text_valid_2,y_valid),verbose=1)"
   ]
  },
  {
   "cell_type": "code",
   "execution_count": 17,
   "metadata": {
    "colab": {},
    "colab_type": "code",
    "id": "JUqRpjMuu0HD"
   },
   "outputs": [
    {
     "name": "stdout",
     "output_type": "stream",
     "text": [
      "15590/15590 [==============================] - 1s 65us/step\n",
      "Test set\n",
      "  Loss: 1.175\n",
      "  Accuracy: 0.815\n"
     ]
    }
   ],
   "source": [
    "accr1 = model_CNN.evaluate(text_test_2,y_test)\n",
    "print('Test set\\n  Loss: {:0.3f}\\n  Accuracy: {:0.3f}'.format(accr1[0],accr1[1]))"
   ]
  },
  {
   "cell_type": "markdown",
   "metadata": {
    "colab_type": "text",
    "id": "HC50ntNHRGll"
   },
   "source": [
    "For the CNN model, the accuracy and loss on the test set is around 81.5% and 1.175. "
   ]
  },
  {
   "cell_type": "markdown",
   "metadata": {
    "colab_type": "text",
    "id": "ibd-ef8I1mKx"
   },
   "source": [
    "## 3.3\n",
    "\n",
    "Be sure to directly compare your two methods with an ROC curve or similar\n",
    "validation method. Don't forget to create a train-test split."
   ]
  },
  {
   "cell_type": "code",
   "execution_count": 18,
   "metadata": {
    "colab": {
     "base_uri": "https://localhost:8080/",
     "height": 294
    },
    "colab_type": "code",
    "id": "NvahUmz2B-n-",
    "outputId": "44a61549-8714-4690-a6db-c832274df7ab"
   },
   "outputs": [
    {
     "data": {
      "image/png": "[encoded data removed]",
      "text/plain": [
       "<Figure size 1152x432 with 2 Axes>"
      ]
     },
     "metadata": {},
     "output_type": "display_data"
    }
   ],
   "source": [
    "# Plot the results\n",
    "plt.figure(figsize=(16,6))\n",
    "plt.subplot(1, 2, 1)\n",
    "plt.plot(rnn_history.history['acc'])\n",
    "plt.plot(rnn_history.history['val_acc'])\n",
    "plt.title('RNN Model Accuracy')\n",
    "plt.ylabel('Accuracy')\n",
    "plt.xlabel('Epochs')\n",
    "plt.legend(['train', 'validation'])\n",
    "\n",
    "plt.subplot(1, 2, 2)\n",
    "plt.plot(cnn_history.history['acc'])\n",
    "plt.plot(cnn_history.history['val_acc'])\n",
    "plt.title('CNN Model Accuracy')\n",
    "plt.ylabel('Accuracy')\n",
    "plt.xlabel('Epochs')\n",
    "plt.legend(['train', 'validation'])\n",
    "plt.show()"
   ]
  },
  {
   "cell_type": "markdown",
   "metadata": {
    "colab_type": "text",
    "id": "7UQ6qrz7SDNc"
   },
   "source": [
    "From the above plot, we can see that both RNN and CNN models got a very decent performance. The test accuracy for both CNN and RNN is 81.5%."
   ]
  },
  {
   "cell_type": "code",
   "execution_count": null,
   "metadata": {},
   "outputs": [],
   "source": []
  }
 ],
 "metadata": {
  "accelerator": "GPU",
  "colab": {
   "collapsed_sections": [],
   "include_colab_link": true,
   "name": "ANLY590_HW2.ipynb",
   "provenance": [],
   "version": "0.3.2"
  },
  "kernelspec": {
   "display_name": "Python 3",
   "language": "python",
   "name": "python3"
  },
  "language_info": {
   "codemirror_mode": {
    "name": "ipython",
    "version": 3
   },
   "file_extension": ".py",
   "mimetype": "text/x-python",
   "name": "python",
   "nbconvert_exporter": "python",
   "pygments_lexer": "ipython3",
   "version": "3.6.5"
  }
 },
 "nbformat": 4,
 "nbformat_minor": 1
}
